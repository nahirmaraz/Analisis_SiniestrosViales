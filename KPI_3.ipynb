{
 "cells": [
  {
   "cell_type": "markdown",
   "metadata": {},
   "source": [
    "Librerías."
   ]
  },
  {
   "cell_type": "code",
   "execution_count": 60,
   "metadata": {},
   "outputs": [],
   "source": [
    "import pandas as pd\n",
    "import matplotlib.pyplot as plt"
   ]
  },
  {
   "cell_type": "markdown",
   "metadata": {},
   "source": [
    "DataFrames."
   ]
  },
  {
   "cell_type": "code",
   "execution_count": 61,
   "metadata": {},
   "outputs": [],
   "source": [
    "hechos=pd.read_csv('Hechos.csv')\n",
    "poblacion=pd.read_csv('Poblacion.csv')\n",
    "victimas=pd.read_csv('Victimas.csv')"
   ]
  },
  {
   "cell_type": "markdown",
   "metadata": {},
   "source": [
    "Como el tercer KPI es solo en el horario nocturno, se realiza un filtro de las horas en la tabla hechos."
   ]
  },
  {
   "cell_type": "code",
   "execution_count": 62,
   "metadata": {},
   "outputs": [
    {
     "data": {
      "text/html": [
       "<div>\n",
       "<style scoped>\n",
       "    .dataframe tbody tr th:only-of-type {\n",
       "        vertical-align: middle;\n",
       "    }\n",
       "\n",
       "    .dataframe tbody tr th {\n",
       "        vertical-align: top;\n",
       "    }\n",
       "\n",
       "    .dataframe thead th {\n",
       "        text-align: right;\n",
       "    }\n",
       "</style>\n",
       "<table border=\"1\" class=\"dataframe\">\n",
       "  <thead>\n",
       "    <tr style=\"text-align: right;\">\n",
       "      <th></th>\n",
       "      <th>Unnamed: 0</th>\n",
       "      <th>ID</th>\n",
       "      <th>N_VICTIMAS</th>\n",
       "      <th>AAAA</th>\n",
       "      <th>MM</th>\n",
       "      <th>HH</th>\n",
       "      <th>TIPO_DE_CALLE</th>\n",
       "      <th>COMUNA</th>\n",
       "      <th>VICTIMA</th>\n",
       "      <th>ACUSADO</th>\n",
       "      <th>SEMESTRE</th>\n",
       "    </tr>\n",
       "  </thead>\n",
       "  <tbody>\n",
       "    <tr>\n",
       "      <th>0</th>\n",
       "      <td>0</td>\n",
       "      <td>2016-0001</td>\n",
       "      <td>1</td>\n",
       "      <td>2016</td>\n",
       "      <td>1</td>\n",
       "      <td>4.0</td>\n",
       "      <td>AVENIDA</td>\n",
       "      <td>8</td>\n",
       "      <td>MOTO</td>\n",
       "      <td>AUTO</td>\n",
       "      <td>2016-1</td>\n",
       "    </tr>\n",
       "    <tr>\n",
       "      <th>1</th>\n",
       "      <td>1</td>\n",
       "      <td>2016-0002</td>\n",
       "      <td>1</td>\n",
       "      <td>2016</td>\n",
       "      <td>1</td>\n",
       "      <td>1.0</td>\n",
       "      <td>GRAL PAZ</td>\n",
       "      <td>9</td>\n",
       "      <td>AUTO</td>\n",
       "      <td>PASAJEROS</td>\n",
       "      <td>2016-1</td>\n",
       "    </tr>\n",
       "    <tr>\n",
       "      <th>2</th>\n",
       "      <td>2</td>\n",
       "      <td>2016-0003</td>\n",
       "      <td>1</td>\n",
       "      <td>2016</td>\n",
       "      <td>1</td>\n",
       "      <td>7.0</td>\n",
       "      <td>AVENIDA</td>\n",
       "      <td>1</td>\n",
       "      <td>MOTO</td>\n",
       "      <td>AUTO</td>\n",
       "      <td>2016-1</td>\n",
       "    </tr>\n",
       "  </tbody>\n",
       "</table>\n",
       "</div>"
      ],
      "text/plain": [
       "   Unnamed: 0         ID  N_VICTIMAS  AAAA  MM   HH TIPO_DE_CALLE  COMUNA  \\\n",
       "0           0  2016-0001           1  2016   1  4.0       AVENIDA       8   \n",
       "1           1  2016-0002           1  2016   1  1.0      GRAL PAZ       9   \n",
       "2           2  2016-0003           1  2016   1  7.0       AVENIDA       1   \n",
       "\n",
       "  VICTIMA    ACUSADO SEMESTRE  \n",
       "0    MOTO       AUTO   2016-1  \n",
       "1    AUTO  PASAJEROS   2016-1  \n",
       "2    MOTO       AUTO   2016-1  "
      ]
     },
     "execution_count": 62,
     "metadata": {},
     "output_type": "execute_result"
    }
   ],
   "source": [
    "filtro = hechos[(hechos[\"HH\"] <= 7.0) | (hechos[\"HH\"] >= 22.0)]\n",
    "filtro.head(3)"
   ]
  },
  {
   "cell_type": "markdown",
   "metadata": {},
   "source": [
    "Debido a que en el DataFrame 'hechos' no necesariamente son todos mortales, se lo une con el DataFrame 'victimas' para obtener solo los casos en donde haya fallecido 1 o mas personas."
   ]
  },
  {
   "cell_type": "code",
   "execution_count": 63,
   "metadata": {},
   "outputs": [
    {
     "data": {
      "text/html": [
       "<div>\n",
       "<style scoped>\n",
       "    .dataframe tbody tr th:only-of-type {\n",
       "        vertical-align: middle;\n",
       "    }\n",
       "\n",
       "    .dataframe tbody tr th {\n",
       "        vertical-align: top;\n",
       "    }\n",
       "\n",
       "    .dataframe thead th {\n",
       "        text-align: right;\n",
       "    }\n",
       "</style>\n",
       "<table border=\"1\" class=\"dataframe\">\n",
       "  <thead>\n",
       "    <tr style=\"text-align: right;\">\n",
       "      <th></th>\n",
       "      <th>Unnamed: 0_x</th>\n",
       "      <th>ID</th>\n",
       "      <th>N_VICTIMAS</th>\n",
       "      <th>AAAA</th>\n",
       "      <th>MM</th>\n",
       "      <th>HH</th>\n",
       "      <th>TIPO_DE_CALLE</th>\n",
       "      <th>COMUNA</th>\n",
       "      <th>VICTIMA</th>\n",
       "      <th>ACUSADO</th>\n",
       "      <th>SEMESTRE</th>\n",
       "      <th>Unnamed: 0_y</th>\n",
       "      <th>ID_hecho</th>\n",
       "      <th>SEXO</th>\n",
       "      <th>EDAD</th>\n",
       "      <th>Unnamed: 0</th>\n",
       "      <th>POBLACION_ANUAL</th>\n",
       "    </tr>\n",
       "  </thead>\n",
       "  <tbody>\n",
       "    <tr>\n",
       "      <th>0</th>\n",
       "      <td>0</td>\n",
       "      <td>2016-0001</td>\n",
       "      <td>1</td>\n",
       "      <td>2016</td>\n",
       "      <td>1</td>\n",
       "      <td>4.0</td>\n",
       "      <td>AVENIDA</td>\n",
       "      <td>8</td>\n",
       "      <td>MOTO</td>\n",
       "      <td>AUTO</td>\n",
       "      <td>2016-1</td>\n",
       "      <td>0</td>\n",
       "      <td>2016-0001</td>\n",
       "      <td>MASCULINO</td>\n",
       "      <td>19</td>\n",
       "      <td>1</td>\n",
       "      <td>3059122.0</td>\n",
       "    </tr>\n",
       "    <tr>\n",
       "      <th>1</th>\n",
       "      <td>1</td>\n",
       "      <td>2016-0002</td>\n",
       "      <td>1</td>\n",
       "      <td>2016</td>\n",
       "      <td>1</td>\n",
       "      <td>1.0</td>\n",
       "      <td>GRAL PAZ</td>\n",
       "      <td>9</td>\n",
       "      <td>AUTO</td>\n",
       "      <td>PASAJEROS</td>\n",
       "      <td>2016-1</td>\n",
       "      <td>1</td>\n",
       "      <td>2016-0002</td>\n",
       "      <td>MASCULINO</td>\n",
       "      <td>70</td>\n",
       "      <td>1</td>\n",
       "      <td>3059122.0</td>\n",
       "    </tr>\n",
       "    <tr>\n",
       "      <th>2</th>\n",
       "      <td>2</td>\n",
       "      <td>2016-0003</td>\n",
       "      <td>1</td>\n",
       "      <td>2016</td>\n",
       "      <td>1</td>\n",
       "      <td>7.0</td>\n",
       "      <td>AVENIDA</td>\n",
       "      <td>1</td>\n",
       "      <td>MOTO</td>\n",
       "      <td>AUTO</td>\n",
       "      <td>2016-1</td>\n",
       "      <td>2</td>\n",
       "      <td>2016-0003</td>\n",
       "      <td>MASCULINO</td>\n",
       "      <td>30</td>\n",
       "      <td>1</td>\n",
       "      <td>3059122.0</td>\n",
       "    </tr>\n",
       "    <tr>\n",
       "      <th>3</th>\n",
       "      <td>4</td>\n",
       "      <td>2016-0005</td>\n",
       "      <td>1</td>\n",
       "      <td>2016</td>\n",
       "      <td>1</td>\n",
       "      <td>5.0</td>\n",
       "      <td>AVENIDA</td>\n",
       "      <td>1</td>\n",
       "      <td>MOTO</td>\n",
       "      <td>PASAJEROS</td>\n",
       "      <td>2016-1</td>\n",
       "      <td>4</td>\n",
       "      <td>2016-0005</td>\n",
       "      <td>MASCULINO</td>\n",
       "      <td>29</td>\n",
       "      <td>1</td>\n",
       "      <td>3059122.0</td>\n",
       "    </tr>\n",
       "    <tr>\n",
       "      <th>4</th>\n",
       "      <td>8</td>\n",
       "      <td>2016-0012</td>\n",
       "      <td>1</td>\n",
       "      <td>2016</td>\n",
       "      <td>2</td>\n",
       "      <td>1.0</td>\n",
       "      <td>AVENIDA</td>\n",
       "      <td>1</td>\n",
       "      <td>MOTO</td>\n",
       "      <td>CARGAS</td>\n",
       "      <td>2016-1</td>\n",
       "      <td>8</td>\n",
       "      <td>2016-0012</td>\n",
       "      <td>MASCULINO</td>\n",
       "      <td>22</td>\n",
       "      <td>1</td>\n",
       "      <td>3059122.0</td>\n",
       "    </tr>\n",
       "  </tbody>\n",
       "</table>\n",
       "</div>"
      ],
      "text/plain": [
       "   Unnamed: 0_x         ID  N_VICTIMAS  AAAA  MM   HH TIPO_DE_CALLE  COMUNA  \\\n",
       "0             0  2016-0001           1  2016   1  4.0       AVENIDA       8   \n",
       "1             1  2016-0002           1  2016   1  1.0      GRAL PAZ       9   \n",
       "2             2  2016-0003           1  2016   1  7.0       AVENIDA       1   \n",
       "3             4  2016-0005           1  2016   1  5.0       AVENIDA       1   \n",
       "4             8  2016-0012           1  2016   2  1.0       AVENIDA       1   \n",
       "\n",
       "  VICTIMA    ACUSADO SEMESTRE  Unnamed: 0_y   ID_hecho       SEXO EDAD  \\\n",
       "0    MOTO       AUTO   2016-1             0  2016-0001  MASCULINO   19   \n",
       "1    AUTO  PASAJEROS   2016-1             1  2016-0002  MASCULINO   70   \n",
       "2    MOTO       AUTO   2016-1             2  2016-0003  MASCULINO   30   \n",
       "3    MOTO  PASAJEROS   2016-1             4  2016-0005  MASCULINO   29   \n",
       "4    MOTO     CARGAS   2016-1             8  2016-0012  MASCULINO   22   \n",
       "\n",
       "   Unnamed: 0  POBLACION_ANUAL  \n",
       "0           1        3059122.0  \n",
       "1           1        3059122.0  \n",
       "2           1        3059122.0  \n",
       "3           1        3059122.0  \n",
       "4           1        3059122.0  "
      ]
     },
     "execution_count": 63,
     "metadata": {},
     "output_type": "execute_result"
    }
   ],
   "source": [
    "df=pd.merge(filtro, victimas, left_on='ID', right_on='ID_hecho', how='inner')\n",
    "df = pd.merge(df, poblacion, on='AAAA', how='inner')\n",
    "df.head()"
   ]
  },
  {
   "cell_type": "markdown",
   "metadata": {},
   "source": [
    "Se visualiza la composicion del df."
   ]
  },
  {
   "cell_type": "code",
   "execution_count": 64,
   "metadata": {},
   "outputs": [
    {
     "name": "stdout",
     "output_type": "stream",
     "text": [
      "<class 'pandas.core.frame.DataFrame'>\n",
      "RangeIndex: 273 entries, 0 to 272\n",
      "Data columns (total 17 columns):\n",
      " #   Column           Non-Null Count  Dtype  \n",
      "---  ------           --------------  -----  \n",
      " 0   Unnamed: 0_x     273 non-null    int64  \n",
      " 1   ID               273 non-null    object \n",
      " 2   N_VICTIMAS       273 non-null    int64  \n",
      " 3   AAAA             273 non-null    int64  \n",
      " 4   MM               273 non-null    int64  \n",
      " 5   HH               273 non-null    float64\n",
      " 6   TIPO_DE_CALLE    273 non-null    object \n",
      " 7   COMUNA           273 non-null    int64  \n",
      " 8   VICTIMA          273 non-null    object \n",
      " 9   ACUSADO          273 non-null    object \n",
      " 10  SEMESTRE         273 non-null    object \n",
      " 11  Unnamed: 0_y     273 non-null    int64  \n",
      " 12  ID_hecho         273 non-null    object \n",
      " 13  SEXO             273 non-null    object \n",
      " 14  EDAD             273 non-null    object \n",
      " 15  Unnamed: 0       273 non-null    int64  \n",
      " 16  POBLACION_ANUAL  273 non-null    float64\n",
      "dtypes: float64(2), int64(7), object(8)\n",
      "memory usage: 36.4+ KB\n"
     ]
    }
   ],
   "source": [
    "df.info()"
   ]
  },
  {
   "cell_type": "markdown",
   "metadata": {},
   "source": [
    "Se eliminan las columnas innecesarias para el calculo deñ KPI 3."
   ]
  },
  {
   "cell_type": "code",
   "execution_count": 65,
   "metadata": {},
   "outputs": [
    {
     "data": {
      "text/html": [
       "<div>\n",
       "<style scoped>\n",
       "    .dataframe tbody tr th:only-of-type {\n",
       "        vertical-align: middle;\n",
       "    }\n",
       "\n",
       "    .dataframe tbody tr th {\n",
       "        vertical-align: top;\n",
       "    }\n",
       "\n",
       "    .dataframe thead th {\n",
       "        text-align: right;\n",
       "    }\n",
       "</style>\n",
       "<table border=\"1\" class=\"dataframe\">\n",
       "  <thead>\n",
       "    <tr style=\"text-align: right;\">\n",
       "      <th></th>\n",
       "      <th>N_VICTIMAS</th>\n",
       "      <th>AAAA</th>\n",
       "    </tr>\n",
       "  </thead>\n",
       "  <tbody>\n",
       "    <tr>\n",
       "      <th>0</th>\n",
       "      <td>1</td>\n",
       "      <td>2016</td>\n",
       "    </tr>\n",
       "    <tr>\n",
       "      <th>1</th>\n",
       "      <td>1</td>\n",
       "      <td>2016</td>\n",
       "    </tr>\n",
       "    <tr>\n",
       "      <th>2</th>\n",
       "      <td>1</td>\n",
       "      <td>2016</td>\n",
       "    </tr>\n",
       "  </tbody>\n",
       "</table>\n",
       "</div>"
      ],
      "text/plain": [
       "   N_VICTIMAS  AAAA\n",
       "0           1  2016\n",
       "1           1  2016\n",
       "2           1  2016"
      ]
     },
     "execution_count": 65,
     "metadata": {},
     "output_type": "execute_result"
    }
   ],
   "source": [
    "col_eliminar=['Unnamed: 0_x','ID','HH','TIPO_DE_CALLE','COMUNA','VICTIMA','ACUSADO','Unnamed: 0_y','SEXO','EDAD','Unnamed: 0','ID_hecho','MM','SEMESTRE','POBLACION_ANUAL']\n",
    "df.drop(columns=col_eliminar, axis=1,inplace=True)\n",
    "df.head(3)"
   ]
  },
  {
   "cell_type": "markdown",
   "metadata": {},
   "source": [
    "Se crea un nuevo DataFrame agrupado por años, ya que el KPI 3 es anual. Este contiene los datos de cantidad de victimas del año actual."
   ]
  },
  {
   "cell_type": "code",
   "execution_count": 66,
   "metadata": {},
   "outputs": [
    {
     "data": {
      "text/html": [
       "<div>\n",
       "<style scoped>\n",
       "    .dataframe tbody tr th:only-of-type {\n",
       "        vertical-align: middle;\n",
       "    }\n",
       "\n",
       "    .dataframe tbody tr th {\n",
       "        vertical-align: top;\n",
       "    }\n",
       "\n",
       "    .dataframe thead th {\n",
       "        text-align: right;\n",
       "    }\n",
       "</style>\n",
       "<table border=\"1\" class=\"dataframe\">\n",
       "  <thead>\n",
       "    <tr style=\"text-align: right;\">\n",
       "      <th></th>\n",
       "      <th>AAAA</th>\n",
       "      <th>N_VICTIMAS</th>\n",
       "    </tr>\n",
       "  </thead>\n",
       "  <tbody>\n",
       "    <tr>\n",
       "      <th>0</th>\n",
       "      <td>2016</td>\n",
       "      <td>64</td>\n",
       "    </tr>\n",
       "    <tr>\n",
       "      <th>1</th>\n",
       "      <td>2017</td>\n",
       "      <td>53</td>\n",
       "    </tr>\n",
       "    <tr>\n",
       "      <th>2</th>\n",
       "      <td>2018</td>\n",
       "      <td>56</td>\n",
       "    </tr>\n",
       "    <tr>\n",
       "      <th>3</th>\n",
       "      <td>2019</td>\n",
       "      <td>37</td>\n",
       "    </tr>\n",
       "    <tr>\n",
       "      <th>4</th>\n",
       "      <td>2020</td>\n",
       "      <td>37</td>\n",
       "    </tr>\n",
       "    <tr>\n",
       "      <th>5</th>\n",
       "      <td>2021</td>\n",
       "      <td>40</td>\n",
       "    </tr>\n",
       "  </tbody>\n",
       "</table>\n",
       "</div>"
      ],
      "text/plain": [
       "   AAAA  N_VICTIMAS\n",
       "0  2016          64\n",
       "1  2017          53\n",
       "2  2018          56\n",
       "3  2019          37\n",
       "4  2020          37\n",
       "5  2021          40"
      ]
     },
     "execution_count": 66,
     "metadata": {},
     "output_type": "execute_result"
    }
   ],
   "source": [
    "df_actual = filtro.groupby(\"AAAA\")[\"N_VICTIMAS\"].count().reset_index()\n",
    "df_actual"
   ]
  },
  {
   "cell_type": "markdown",
   "metadata": {},
   "source": [
    "Se crea una nueva columna'AAAA_ANTERIOR' ya que la vamos a necesitar, como llave, para posteriormente unirla con otro df."
   ]
  },
  {
   "cell_type": "code",
   "execution_count": 67,
   "metadata": {},
   "outputs": [
    {
     "data": {
      "text/html": [
       "<div>\n",
       "<style scoped>\n",
       "    .dataframe tbody tr th:only-of-type {\n",
       "        vertical-align: middle;\n",
       "    }\n",
       "\n",
       "    .dataframe tbody tr th {\n",
       "        vertical-align: top;\n",
       "    }\n",
       "\n",
       "    .dataframe thead th {\n",
       "        text-align: right;\n",
       "    }\n",
       "</style>\n",
       "<table border=\"1\" class=\"dataframe\">\n",
       "  <thead>\n",
       "    <tr style=\"text-align: right;\">\n",
       "      <th></th>\n",
       "      <th>AAAA</th>\n",
       "      <th>N_VICTIMAS</th>\n",
       "      <th>AAAA_ANTERIOR</th>\n",
       "    </tr>\n",
       "  </thead>\n",
       "  <tbody>\n",
       "    <tr>\n",
       "      <th>0</th>\n",
       "      <td>2016</td>\n",
       "      <td>64</td>\n",
       "      <td>2015</td>\n",
       "    </tr>\n",
       "    <tr>\n",
       "      <th>1</th>\n",
       "      <td>2017</td>\n",
       "      <td>53</td>\n",
       "      <td>2016</td>\n",
       "    </tr>\n",
       "    <tr>\n",
       "      <th>2</th>\n",
       "      <td>2018</td>\n",
       "      <td>56</td>\n",
       "      <td>2017</td>\n",
       "    </tr>\n",
       "    <tr>\n",
       "      <th>3</th>\n",
       "      <td>2019</td>\n",
       "      <td>37</td>\n",
       "      <td>2018</td>\n",
       "    </tr>\n",
       "    <tr>\n",
       "      <th>4</th>\n",
       "      <td>2020</td>\n",
       "      <td>37</td>\n",
       "      <td>2019</td>\n",
       "    </tr>\n",
       "    <tr>\n",
       "      <th>5</th>\n",
       "      <td>2021</td>\n",
       "      <td>40</td>\n",
       "      <td>2020</td>\n",
       "    </tr>\n",
       "  </tbody>\n",
       "</table>\n",
       "</div>"
      ],
      "text/plain": [
       "   AAAA  N_VICTIMAS  AAAA_ANTERIOR\n",
       "0  2016          64           2015\n",
       "1  2017          53           2016\n",
       "2  2018          56           2017\n",
       "3  2019          37           2018\n",
       "4  2020          37           2019\n",
       "5  2021          40           2020"
      ]
     },
     "execution_count": 67,
     "metadata": {},
     "output_type": "execute_result"
    }
   ],
   "source": [
    "df_actual['AAAA_ANTERIOR'] = df_actual['AAAA']-1\n",
    "df_actual"
   ]
  },
  {
   "cell_type": "markdown",
   "metadata": {},
   "source": [
    "Se define otro DataFrame con los datos de cantidad de víctimas, pero del año anterior al que estamos viendo. Es por esto que la agrupación es, de igual manera que antes, por año."
   ]
  },
  {
   "cell_type": "code",
   "execution_count": 68,
   "metadata": {},
   "outputs": [
    {
     "data": {
      "text/html": [
       "<div>\n",
       "<style scoped>\n",
       "    .dataframe tbody tr th:only-of-type {\n",
       "        vertical-align: middle;\n",
       "    }\n",
       "\n",
       "    .dataframe tbody tr th {\n",
       "        vertical-align: top;\n",
       "    }\n",
       "\n",
       "    .dataframe thead th {\n",
       "        text-align: right;\n",
       "    }\n",
       "</style>\n",
       "<table border=\"1\" class=\"dataframe\">\n",
       "  <thead>\n",
       "    <tr style=\"text-align: right;\">\n",
       "      <th></th>\n",
       "      <th>AAAA_ANTERIOR</th>\n",
       "      <th>N_VICTIMAS_ANTERIOR</th>\n",
       "    </tr>\n",
       "  </thead>\n",
       "  <tbody>\n",
       "    <tr>\n",
       "      <th>0</th>\n",
       "      <td>2016</td>\n",
       "      <td>64</td>\n",
       "    </tr>\n",
       "    <tr>\n",
       "      <th>1</th>\n",
       "      <td>2017</td>\n",
       "      <td>53</td>\n",
       "    </tr>\n",
       "    <tr>\n",
       "      <th>2</th>\n",
       "      <td>2018</td>\n",
       "      <td>56</td>\n",
       "    </tr>\n",
       "    <tr>\n",
       "      <th>3</th>\n",
       "      <td>2019</td>\n",
       "      <td>37</td>\n",
       "    </tr>\n",
       "    <tr>\n",
       "      <th>4</th>\n",
       "      <td>2020</td>\n",
       "      <td>37</td>\n",
       "    </tr>\n",
       "    <tr>\n",
       "      <th>5</th>\n",
       "      <td>2021</td>\n",
       "      <td>40</td>\n",
       "    </tr>\n",
       "  </tbody>\n",
       "</table>\n",
       "</div>"
      ],
      "text/plain": [
       "   AAAA_ANTERIOR  N_VICTIMAS_ANTERIOR\n",
       "0           2016                   64\n",
       "1           2017                   53\n",
       "2           2018                   56\n",
       "3           2019                   37\n",
       "4           2020                   37\n",
       "5           2021                   40"
      ]
     },
     "execution_count": 68,
     "metadata": {},
     "output_type": "execute_result"
    }
   ],
   "source": [
    "df_anterior = filtro.groupby(\"AAAA\")[\"N_VICTIMAS\"].count().reset_index()\n",
    "df_anterior = df_anterior.rename(columns={\"N_VICTIMAS\": \"N_VICTIMAS_ANTERIOR\",\n",
    "                                          \"AAAA\": \"AAAA_ANTERIOR\"})\n",
    "df_anterior"
   ]
  },
  {
   "cell_type": "markdown",
   "metadata": {},
   "source": [
    "Por último, se unen los dos df creados anteriormente para ya tener todos los datos necesarios para nuestro KPI 3. Se unen mediante la columna 'AAAA_ANTERIOR' que se, también, creó anteriormente."
   ]
  },
  {
   "cell_type": "code",
   "execution_count": 69,
   "metadata": {},
   "outputs": [
    {
     "data": {
      "text/html": [
       "<div>\n",
       "<style scoped>\n",
       "    .dataframe tbody tr th:only-of-type {\n",
       "        vertical-align: middle;\n",
       "    }\n",
       "\n",
       "    .dataframe tbody tr th {\n",
       "        vertical-align: top;\n",
       "    }\n",
       "\n",
       "    .dataframe thead th {\n",
       "        text-align: right;\n",
       "    }\n",
       "</style>\n",
       "<table border=\"1\" class=\"dataframe\">\n",
       "  <thead>\n",
       "    <tr style=\"text-align: right;\">\n",
       "      <th></th>\n",
       "      <th>AAAA</th>\n",
       "      <th>N_VICTIMAS</th>\n",
       "      <th>AAAA_ANTERIOR</th>\n",
       "      <th>N_VICTIMAS_ANTERIOR</th>\n",
       "    </tr>\n",
       "  </thead>\n",
       "  <tbody>\n",
       "    <tr>\n",
       "      <th>0</th>\n",
       "      <td>2017</td>\n",
       "      <td>53</td>\n",
       "      <td>2016</td>\n",
       "      <td>64</td>\n",
       "    </tr>\n",
       "    <tr>\n",
       "      <th>1</th>\n",
       "      <td>2018</td>\n",
       "      <td>56</td>\n",
       "      <td>2017</td>\n",
       "      <td>53</td>\n",
       "    </tr>\n",
       "    <tr>\n",
       "      <th>2</th>\n",
       "      <td>2019</td>\n",
       "      <td>37</td>\n",
       "      <td>2018</td>\n",
       "      <td>56</td>\n",
       "    </tr>\n",
       "    <tr>\n",
       "      <th>3</th>\n",
       "      <td>2020</td>\n",
       "      <td>37</td>\n",
       "      <td>2019</td>\n",
       "      <td>37</td>\n",
       "    </tr>\n",
       "    <tr>\n",
       "      <th>4</th>\n",
       "      <td>2021</td>\n",
       "      <td>40</td>\n",
       "      <td>2020</td>\n",
       "      <td>37</td>\n",
       "    </tr>\n",
       "  </tbody>\n",
       "</table>\n",
       "</div>"
      ],
      "text/plain": [
       "   AAAA  N_VICTIMAS  AAAA_ANTERIOR  N_VICTIMAS_ANTERIOR\n",
       "0  2017          53           2016                   64\n",
       "1  2018          56           2017                   53\n",
       "2  2019          37           2018                   56\n",
       "3  2020          37           2019                   37\n",
       "4  2021          40           2020                   37"
      ]
     },
     "execution_count": 69,
     "metadata": {},
     "output_type": "execute_result"
    }
   ],
   "source": [
    "# unir df actual y df anterior\n",
    "df_KPI_3 = pd.merge(df_actual, df_anterior, on=\"AAAA_ANTERIOR\", how=\"inner\")\n",
    "df_KPI_3"
   ]
  },
  {
   "cell_type": "markdown",
   "metadata": {},
   "source": [
    "Como se sabe la fórmula de la métrica para medir el KPI 3, se lo calcula"
   ]
  },
  {
   "cell_type": "code",
   "execution_count": 70,
   "metadata": {},
   "outputs": [
    {
     "data": {
      "text/html": [
       "<div>\n",
       "<style scoped>\n",
       "    .dataframe tbody tr th:only-of-type {\n",
       "        vertical-align: middle;\n",
       "    }\n",
       "\n",
       "    .dataframe tbody tr th {\n",
       "        vertical-align: top;\n",
       "    }\n",
       "\n",
       "    .dataframe thead th {\n",
       "        text-align: right;\n",
       "    }\n",
       "</style>\n",
       "<table border=\"1\" class=\"dataframe\">\n",
       "  <thead>\n",
       "    <tr style=\"text-align: right;\">\n",
       "      <th></th>\n",
       "      <th>AAAA</th>\n",
       "      <th>N_VICTIMAS</th>\n",
       "      <th>AAAA_ANTERIOR</th>\n",
       "      <th>N_VICTIMAS_ANTERIOR</th>\n",
       "      <th>KPI_3</th>\n",
       "    </tr>\n",
       "  </thead>\n",
       "  <tbody>\n",
       "    <tr>\n",
       "      <th>0</th>\n",
       "      <td>2017</td>\n",
       "      <td>53</td>\n",
       "      <td>2016</td>\n",
       "      <td>64</td>\n",
       "      <td>17.19</td>\n",
       "    </tr>\n",
       "    <tr>\n",
       "      <th>1</th>\n",
       "      <td>2018</td>\n",
       "      <td>56</td>\n",
       "      <td>2017</td>\n",
       "      <td>53</td>\n",
       "      <td>-5.66</td>\n",
       "    </tr>\n",
       "    <tr>\n",
       "      <th>2</th>\n",
       "      <td>2019</td>\n",
       "      <td>37</td>\n",
       "      <td>2018</td>\n",
       "      <td>56</td>\n",
       "      <td>33.93</td>\n",
       "    </tr>\n",
       "    <tr>\n",
       "      <th>3</th>\n",
       "      <td>2020</td>\n",
       "      <td>37</td>\n",
       "      <td>2019</td>\n",
       "      <td>37</td>\n",
       "      <td>0.00</td>\n",
       "    </tr>\n",
       "    <tr>\n",
       "      <th>4</th>\n",
       "      <td>2021</td>\n",
       "      <td>40</td>\n",
       "      <td>2020</td>\n",
       "      <td>37</td>\n",
       "      <td>-8.11</td>\n",
       "    </tr>\n",
       "  </tbody>\n",
       "</table>\n",
       "</div>"
      ],
      "text/plain": [
       "   AAAA  N_VICTIMAS  AAAA_ANTERIOR  N_VICTIMAS_ANTERIOR  KPI_3\n",
       "0  2017          53           2016                   64  17.19\n",
       "1  2018          56           2017                   53  -5.66\n",
       "2  2019          37           2018                   56  33.93\n",
       "3  2020          37           2019                   37   0.00\n",
       "4  2021          40           2020                   37  -8.11"
      ]
     },
     "execution_count": 70,
     "metadata": {},
     "output_type": "execute_result"
    }
   ],
   "source": [
    "anterior = df_KPI_3[\"N_VICTIMAS_ANTERIOR\"]\n",
    "actual = df_KPI_3[\"N_VICTIMAS\"]\n",
    "df_KPI_3[\"KPI_3\"] = (((anterior - actual) / anterior) * 100).round(2)\n",
    "df_KPI_3"
   ]
  },
  {
   "cell_type": "markdown",
   "metadata": {},
   "source": [
    "En la tabla, un KPI 3 positivo significa que  la cantidad deaccidentes nocturnos disminuyó de un año a otro. Caso contrraio es cuando el KPI 3 es negativo. A mayor módulo, más abrupto el cambio."
   ]
  },
  {
   "cell_type": "markdown",
   "metadata": {},
   "source": [
    "Se grafica el valor del KPI 3 en función del año, para visualizar mas facilmente el comportamiento."
   ]
  },
  {
   "cell_type": "code",
   "execution_count": 71,
   "metadata": {},
   "outputs": [
    {
     "data": {
      "image/png": "[encoded data removed]",
      "text/plain": [
       "<Figure size 800x400 with 1 Axes>"
      ]
     },
     "metadata": {},
     "output_type": "display_data"
    }
   ],
   "source": [
    "anio = df_KPI_3[\"AAAA\"]\n",
    "KPI = df_KPI_3[\"KPI_3\"]\n",
    "# Crear el gráfico de líneas\n",
    "plt.figure(figsize=(8, 4))  # Ajusta el tamaño del gráfico si es necesario\n",
    "plt.plot(anio, KPI, marker='o', linestyle='-', color=\"red\")\n",
    "plt.title('Gráfico de Líneas de AAAA vs. KPI_3')\n",
    "plt.xlabel('AAAA')\n",
    "plt.ylabel('KPI_3')\n",
    "# Agregar etiquetas de datos (valores) sobre cada punto\n",
    "for i, valor in enumerate(KPI):\n",
    "    plt.text(anio[i], valor, str(valor), ha='center', va='bottom')\n",
    "# Mostrar el gráfico\n",
    "plt.grid(True, linestyle='--', alpha=0.7)\n",
    "plt.show()"
   ]
  },
  {
   "cell_type": "markdown",
   "metadata": {},
   "source": [
    "Analizando el gráfico, vemos que los cambios son mus pronunciados. Una pendiente negativa significa que la cantidad de accidentes nocturnos aumentó. Una pendiente porsitiva, significa que la cantidad de accidentes nocturnos disminuyó. Exceptto en el 2020 que quedó igual respecto del año anteriror, eso significa el valo 0."
   ]
  },
  {
   "cell_type": "markdown",
   "metadata": {},
   "source": [
    "Se guarda el df del KPI 3 en formato CSV."
   ]
  },
  {
   "cell_type": "code",
   "execution_count": 72,
   "metadata": {},
   "outputs": [],
   "source": [
    "df_KPI_3.to_csv('KPI_3.csv')"
   ]
  }
 ],
 "metadata": {
  "kernelspec": {
   "display_name": "Python 3",
   "language": "python",
   "name": "python3"
  },
  "language_info": {
   "codemirror_mode": {
    "name": "ipython",
    "version": 3
   },
   "file_extension": ".py",
   "mimetype": "text/x-python",
   "name": "python",
   "nbconvert_exporter": "python",
   "pygments_lexer": "ipython3",
   "version": "3.12.0"
  }
 },
 "nbformat": 4,
 "nbformat_minor": 2
}
